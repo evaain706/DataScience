{
 "cells": [
  {
   "cell_type": "code",
   "execution_count": null,
   "id": "ed2d7b6f",
   "metadata": {},
   "outputs": [],
   "source": [
    "#내장함수 예 : input\n",
    "strText = input(\"아무문장이나 입력하세요: \")\n",
    "print(strText)"
   ]
  },
  {
   "cell_type": "code",
   "execution_count": null,
   "id": "daafaf87",
   "metadata": {},
   "outputs": [],
   "source": [
    "# List를 이용한 다차원 배열\n",
    "flVal = [1.0,2.0,3.14,4.2,5.1] #실수 list를 생성"
   ]
  },
  {
   "cell_type": "code",
   "execution_count": null,
   "id": "af0eac0d",
   "metadata": {},
   "outputs": [],
   "source": [
    "# flVal 3개를 리스트로 구성하여 arVal 다차원 배열을 생성\n",
    "arVal = [flVal, flVal, flVal]\n",
    "arVal"
   ]
  },
  {
   "cell_type": "code",
   "execution_count": null,
   "id": "629d063f",
   "metadata": {},
   "outputs": [],
   "source": [
    "# arVal은 다차원 배열이므로, arVal[n] 인덱스 연산을 통해 n차원 배열 값을 출력\n",
    "arVal[0]"
   ]
  },
  {
   "cell_type": "code",
   "execution_count": null,
   "id": "a22b63bd",
   "metadata": {},
   "outputs": [],
   "source": [
    "arVal[1]"
   ]
  },
  {
   "cell_type": "code",
   "execution_count": null,
   "id": "ea82f816",
   "metadata": {},
   "outputs": [],
   "source": [
    "arVal[1][2]"
   ]
  },
  {
   "cell_type": "code",
   "execution_count": null,
   "id": "da4ddc16",
   "metadata": {},
   "outputs": [],
   "source": [
    "# 1 차원 값을 변환하여 다른 값을 대입했을때의 다차원 배열\n",
    "arVal[0] = 'python'\n",
    "arVal"
   ]
  },
  {
   "cell_type": "code",
   "execution_count": null,
   "id": "5617946f",
   "metadata": {},
   "outputs": [],
   "source": [
    "arVal[0][2]"
   ]
  },
  {
   "cell_type": "code",
   "execution_count": null,
   "id": "069dd8a2",
   "metadata": {},
   "outputs": [],
   "source": [
    "arVal[0] = 'python programming'\n",
    "arVal"
   ]
  },
  {
   "cell_type": "code",
   "execution_count": null,
   "id": "26cc8fa0",
   "metadata": {},
   "outputs": [],
   "source": [
    "# numpy패키지를 import \n",
    "import numpy as np\n",
    "arData = np.array([1.0, 2.0, 3.14, 4.2, 5.1])\n",
    "arData"
   ]
  },
  {
   "cell_type": "code",
   "execution_count": null,
   "id": "5eff837d",
   "metadata": {},
   "outputs": [],
   "source": [
    "# 배열 각요소의 합을 출력\n",
    "arData.sum()"
   ]
  },
  {
   "cell_type": "code",
   "execution_count": null,
   "id": "ca60959b",
   "metadata": {},
   "outputs": [],
   "source": [
    "arVal.sum()"
   ]
  },
  {
   "cell_type": "code",
   "execution_count": null,
   "id": "ad63bbca",
   "metadata": {},
   "outputs": [],
   "source": [
    "print(type(arVal))\n",
    "print(type(arData))"
   ]
  },
  {
   "cell_type": "code",
   "execution_count": null,
   "id": "7b6b3580",
   "metadata": {},
   "outputs": [],
   "source": [
    "# 배열에대한 표준편차 출력\n",
    "arData.std()"
   ]
  },
  {
   "cell_type": "code",
   "execution_count": null,
   "id": "73ea4de6",
   "metadata": {},
   "outputs": [],
   "source": [
    "# 배열의 누적합을 출력\n",
    "arData.cumsum()"
   ]
  },
  {
   "cell_type": "code",
   "execution_count": null,
   "id": "63418f0b",
   "metadata": {},
   "outputs": [],
   "source": [
    "arData * 2"
   ]
  },
  {
   "cell_type": "code",
   "execution_count": null,
   "id": "b4728d5f",
   "metadata": {},
   "outputs": [],
   "source": [
    "arData ** 2 # 2를 제곱"
   ]
  },
  {
   "cell_type": "code",
   "execution_count": null,
   "id": "7132e9aa",
   "metadata": {},
   "outputs": [],
   "source": [
    "# 루트를 적용한 값을 출력\n",
    "np.sqrt(arData)"
   ]
  },
  {
   "cell_type": "code",
   "execution_count": null,
   "id": "13382c02",
   "metadata": {},
   "outputs": [],
   "source": [
    "arVal = np.array([arData, arData ** 2])\n",
    "arVal"
   ]
  },
  {
   "cell_type": "code",
   "execution_count": null,
   "id": "71e53953",
   "metadata": {},
   "outputs": [],
   "source": [
    "arVal.sum(axis=0) # 축(axis)이 0일경우 세로축의 합을 출력"
   ]
  },
  {
   "cell_type": "code",
   "execution_count": null,
   "id": "738138d5",
   "metadata": {},
   "outputs": [],
   "source": [
    "arVal.sum(axis=1) # 축(axis)이 0일경우 가로축의 합을 출력"
   ]
  },
  {
   "cell_type": "code",
   "execution_count": null,
   "id": "ac4e915a",
   "metadata": {},
   "outputs": [],
   "source": [
    "# NumPy.array를 사용한 코드\n",
    "np.array([[0,0,0],[0,0,0]])"
   ]
  },
  {
   "cell_type": "code",
   "execution_count": null,
   "id": "361e5bb1",
   "metadata": {},
   "outputs": [],
   "source": [
    "# NumPy.zeros를 사용한 코드\n",
    "arZero = np.zeros((2,3), dtype = 'i') \n",
    "arZero"
   ]
  },
  {
   "cell_type": "code",
   "execution_count": null,
   "id": "e0d844db",
   "metadata": {},
   "outputs": [],
   "source": [
    "# pandas import\n",
    "import pandas as pd\n",
    "\n",
    "pandas_series = pd.Series([30,20,10], index=['국어', '영어', '수학'])\n",
    "print(type(pandas_series))\n",
    "pandas_series"
   ]
  },
  {
   "cell_type": "code",
   "execution_count": null,
   "id": "302869da",
   "metadata": {},
   "outputs": [],
   "source": [
    "pandas_series[1:]"
   ]
  },
  {
   "cell_type": "code",
   "execution_count": null,
   "id": "82d905a6",
   "metadata": {},
   "outputs": [],
   "source": [
    "pandas_series[0]"
   ]
  },
  {
   "cell_type": "code",
   "execution_count": null,
   "id": "923f6975",
   "metadata": {},
   "outputs": [],
   "source": [
    "pandas_series[0][1]"
   ]
  },
  {
   "cell_type": "code",
   "execution_count": null,
   "id": "795d1dae",
   "metadata": {},
   "outputs": [],
   "source": [
    "df = pd.DataFrame([30,20,10], columns=['score'], index=['국어', '영어', '수학'])\n",
    "df"
   ]
  },
  {
   "cell_type": "code",
   "execution_count": null,
   "id": "d1c596fe",
   "metadata": {},
   "outputs": [],
   "source": [
    "# DataFrame의 index를 표시\n",
    "df.index"
   ]
  },
  {
   "cell_type": "code",
   "execution_count": null,
   "id": "3f326422",
   "metadata": {},
   "outputs": [],
   "source": [
    "# DataFrame의 column을 표시\n",
    "df.columns"
   ]
  },
  {
   "cell_type": "code",
   "execution_count": null,
   "id": "7e59509c",
   "metadata": {},
   "outputs": [],
   "source": [
    "# DataFrame의index 중에서 국어에 해당하는 값을 출력\n",
    "df.loc['국어'] # ix 함수가 최근 제거되어 loc를 써야 동작"
   ]
  },
  {
   "cell_type": "code",
   "execution_count": null,
   "id": "33175e5c",
   "metadata": {},
   "outputs": [],
   "source": [
    "# DataFrame의 값을 모두 합한 결과를 출력\n",
    "df.sum()"
   ]
  },
  {
   "cell_type": "code",
   "execution_count": null,
   "id": "e137dff1",
   "metadata": {},
   "outputs": [],
   "source": [
    "# DataFrame의 각 colimn 값의 제곱을 출력\n",
    "df.score ** 2"
   ]
  },
  {
   "cell_type": "code",
   "execution_count": null,
   "id": "b94e919d",
   "metadata": {},
   "outputs": [],
   "source": [
    "# DataFrame에 score2라는 칼럼을 추가하고 값을 입력\n",
    "df['score2'] = (50, 50, 50)\n",
    "df"
   ]
  },
  {
   "cell_type": "code",
   "execution_count": null,
   "id": "a73c45ad",
   "metadata": {},
   "outputs": [],
   "source": [
    "# DataFrame 함수를이용하여 column을 추가할 수 있음\n",
    "df['score2'] = pd.DataFrame([90,90,90], index=['국어','영어','수학'])\n",
    "df"
   ]
  },
  {
   "cell_type": "code",
   "execution_count": null,
   "id": "afb8fcc2",
   "metadata": {},
   "outputs": [],
   "source": [
    "# column 삭제\n",
    "del df['score']"
   ]
  },
  {
   "cell_type": "code",
   "execution_count": null,
   "id": "3d98076b",
   "metadata": {},
   "outputs": [],
   "source": [
    "# index를 맞추지 않았을 경우\n",
    "df['score2'] = (90,90,90,100)"
   ]
  },
  {
   "cell_type": "code",
   "execution_count": null,
   "id": "b41194e1",
   "metadata": {},
   "outputs": [],
   "source": [
    "# index를 맞추지 않았을 경우\n",
    "df['score2'] = pd.DataFrame([90, 90, 90, 100], index=['국어','영어','수학','윤리'])\n",
    "df"
   ]
  },
  {
   "cell_type": "code",
   "execution_count": null,
   "id": "77c85c17",
   "metadata": {},
   "outputs": [],
   "source": [
    "# join()함수를 이용하여 2개의 DataFrame을 하나로 합칠 수 있음\n",
    "df1 = pd.DataFrame([1, 2, 3], columns = ['A'])\n",
    "df2 = pd.DataFrame([10, 11, 12, 13], columns = ['B'])\n",
    "\n",
    "df = df1.join(df2, how='outer')\n",
    "df"
   ]
  },
  {
   "cell_type": "code",
   "execution_count": null,
   "id": "51e84a1c",
   "metadata": {},
   "outputs": [],
   "source": [
    "df_inner = df1.join(df2, how='inner')\n",
    "df_inner"
   ]
  },
  {
   "cell_type": "code",
   "execution_count": null,
   "id": "35c72f67",
   "metadata": {},
   "outputs": [],
   "source": [
    "# 난수를 이용한임의의 값 생성\n",
    "df = pd.DataFrame(np.random.randn(5,5))\n",
    "df.columns = ['A','B','C','D','E']\n",
    "\n",
    "df"
   ]
  },
  {
   "cell_type": "code",
   "execution_count": null,
   "id": "2830bfd3",
   "metadata": {},
   "outputs": [],
   "source": [
    "# 최대값\n",
    "df.max()"
   ]
  },
  {
   "cell_type": "code",
   "execution_count": null,
   "id": "97cdac44",
   "metadata": {},
   "outputs": [],
   "source": [
    "# 최소값\n",
    "df.min()"
   ]
  },
  {
   "cell_type": "code",
   "execution_count": null,
   "id": "707b8ab2",
   "metadata": {},
   "outputs": [],
   "source": [
    "# 평균\n",
    "df.mean()"
   ]
  },
  {
   "cell_type": "code",
   "execution_count": null,
   "id": "ac031f97",
   "metadata": {},
   "outputs": [],
   "source": [
    "# 표준편차\n",
    "df.std()"
   ]
  },
  {
   "cell_type": "code",
   "execution_count": null,
   "id": "df69a541",
   "metadata": {},
   "outputs": [],
   "source": [
    "# 누적값\n",
    "df.cumsum()"
   ]
  },
  {
   "cell_type": "code",
   "execution_count": null,
   "id": "1c4ce034",
   "metadata": {},
   "outputs": [],
   "source": [
    "# DataFrame의 통계적 요약\n",
    "df.describe()"
   ]
  },
  {
   "cell_type": "code",
   "execution_count": null,
   "id": "5c1dc167",
   "metadata": {},
   "outputs": [],
   "source": [
    "# Group by를 이용한 DataFrame의 그룹화\n",
    "df['division'] = ['X','Y','X','Y','Z']\n",
    "df"
   ]
  },
  {
   "cell_type": "code",
   "execution_count": null,
   "id": "231b4460",
   "metadata": {},
   "outputs": [],
   "source": [
    "df.groupby(['division']).mean()"
   ]
  }
 ],
 "metadata": {
  "kernelspec": {
   "display_name": "Python 3 (ipykernel)",
   "language": "python",
   "name": "python3"
  },
  "language_info": {
   "codemirror_mode": {
    "name": "ipython",
    "version": 3
   },
   "file_extension": ".py",
   "mimetype": "text/x-python",
   "name": "python",
   "nbconvert_exporter": "python",
   "pygments_lexer": "ipython3",
   "version": "3.9.12"
  }
 },
 "nbformat": 4,
 "nbformat_minor": 5
}
