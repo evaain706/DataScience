{
 "cells": [
  {
   "cell_type": "code",
   "execution_count": 3,
   "id": "9365ec5f",
   "metadata": {},
   "outputs": [],
   "source": [
    "strVal = 'data science'   #문자열 변수\n",
    "nVal = 12345  #정수형변수\n",
    "fVal = 1.2  #실수형 변수\n",
    "lVal = ['data','science'] #리스트\n",
    "dVal = {'lecture':'data science'} #딕셔너리\n",
    "bVal = True  #논리형변수 (참/거짓)\n"
   ]
  },
  {
   "cell_type": "code",
   "execution_count": null,
   "id": "b455ed29",
   "metadata": {},
   "outputs": [],
   "source": [
    "#기본적인 주석"
   ]
  },
  {
   "cell_type": "code",
   "execution_count": null,
   "id": "8ba78da2",
   "metadata": {},
   "outputs": [],
   "source": [
    " '''\n",
    "  이런 형태의 주석도 많이 사용 \n",
    " '''"
   ]
  },
  {
   "cell_type": "code",
   "execution_count": null,
   "id": "4a62ecb7",
   "metadata": {},
   "outputs": [],
   "source": [
    "strVal"
   ]
  },
  {
   "cell_type": "code",
   "execution_count": null,
   "id": "784b424b",
   "metadata": {},
   "outputs": [],
   "source": [
    "nVal"
   ]
  },
  {
   "cell_type": "code",
   "execution_count": null,
   "id": "85abe9ed",
   "metadata": {},
   "outputs": [],
   "source": [
    "fVal"
   ]
  },
  {
   "cell_type": "code",
   "execution_count": null,
   "id": "596b0fbb",
   "metadata": {},
   "outputs": [],
   "source": [
    "lVal"
   ]
  },
  {
   "cell_type": "code",
   "execution_count": null,
   "id": "ccc762e4",
   "metadata": {},
   "outputs": [],
   "source": [
    "dVal"
   ]
  },
  {
   "cell_type": "code",
   "execution_count": null,
   "id": "07046c29",
   "metadata": {},
   "outputs": [],
   "source": [
    "bVal"
   ]
  },
  {
   "cell_type": "code",
   "execution_count": null,
   "id": "4080f63b",
   "metadata": {},
   "outputs": [],
   "source": [
    "print('strVal : ', strVal)\n",
    "print('nVal : ', nVal)\n",
    "print('fVal : ', fVal)\n",
    "print('lVal : ', lVal)\n",
    "print('dVal : ', dVal)\n",
    "print('bVal : ', bVal)"
   ]
  },
  {
   "cell_type": "code",
   "execution_count": null,
   "id": "adb74ed9",
   "metadata": {},
   "outputs": [],
   "source": [
    "print('strVal : ', type(strVal))\n",
    "print('nVal : ', type(nVal))\n",
    "print('fVal : ', type(fVal))\n",
    "print('lVal : ', type(lVal))\n",
    "print('dVal : ', type(dVal))\n",
    "print('bVal : ', type(bVal))\n"
   ]
  },
  {
   "cell_type": "code",
   "execution_count": null,
   "id": "67fad4b3",
   "metadata": {},
   "outputs": [],
   "source": [
    "'''\n",
    " 같은 변수명일 경우,  이전 데이터를 덮어씀\n",
    "'''\n",
    "\n",
    "nVal = 16      #정수형 변수\n",
    "fVal = 3.14     #실수형 변수\n"
   ]
  },
  {
   "cell_type": "code",
   "execution_count": null,
   "id": "6dd867d9",
   "metadata": {},
   "outputs": [],
   "source": [
    "print('10진수 표현 : ', nVal)  # 10진수\n",
    "print('2진수 표현 : ', bin(nVal)) # 2진수\n",
    "print('8진수 표현 : ', oct(nVal)) # 8진수\n",
    "print('16진수 표현 : ', hex(nVal)) # 16진수"
   ]
  },
  {
   "cell_type": "code",
   "execution_count": null,
   "id": "51365519",
   "metadata": {},
   "outputs": [],
   "source": [
    "btVal = True   # 논리형 변수(참)\n",
    "bfVal = False  # 논리형 변수(거짓)"
   ]
  },
  {
   "cell_type": "code",
   "execution_count": null,
   "id": "24fea69c",
   "metadata": {},
   "outputs": [],
   "source": [
    "btVal = TRUE   # 논리형 변수(참) - 오류\n",
    "bfVal = FALSE # 논리형 변수(거짓) - 오류"
   ]
  },
  {
   "cell_type": "code",
   "execution_count": null,
   "id": "d5854921",
   "metadata": {},
   "outputs": [],
   "source": [
    "btVal = true     # 논리형 변수(참) - 오류\n",
    "bfVal = false   # 논리형 변수(거짓) - 오류"
   ]
  },
  {
   "cell_type": "code",
   "execution_count": null,
   "id": "807c38a6",
   "metadata": {},
   "outputs": [],
   "source": [
    "10 == 11"
   ]
  },
  {
   "cell_type": "code",
   "execution_count": null,
   "id": "e3005ca1",
   "metadata": {},
   "outputs": [],
   "source": [
    "10 != 11"
   ]
  },
  {
   "cell_type": "code",
   "execution_count": null,
   "id": "7039aafa",
   "metadata": {},
   "outputs": [],
   "source": [
    "10 >= 11"
   ]
  },
  {
   "cell_type": "code",
   "execution_count": null,
   "id": "8f61a130",
   "metadata": {},
   "outputs": [],
   "source": [
    "10 <= 11"
   ]
  },
  {
   "cell_type": "code",
   "execution_count": null,
   "id": "634657fd",
   "metadata": {},
   "outputs": [],
   "source": [
    "10 > 11"
   ]
  },
  {
   "cell_type": "code",
   "execution_count": null,
   "id": "8d3cd8ef",
   "metadata": {},
   "outputs": [],
   "source": [
    "10 < 11"
   ]
  },
  {
   "cell_type": "code",
   "execution_count": null,
   "id": "d75853bd",
   "metadata": {},
   "outputs": [],
   "source": [
    "nBig = 100\n",
    "nSmall = 10"
   ]
  },
  {
   "cell_type": "code",
   "execution_count": null,
   "id": "58af8b9d",
   "metadata": {},
   "outputs": [],
   "source": [
    "print(nBig == nSmall)\n",
    "print(nBig != nSmall)\n",
    "print(nBig >= nSmall)\n",
    "print(nBig <= nSmall)\n",
    "print(nBig > nSmall)\n",
    "print(nBig < nSmall)"
   ]
  },
  {
   "cell_type": "code",
   "execution_count": null,
   "id": "ff9b4202",
   "metadata": {},
   "outputs": [],
   "source": [
    "print(nBig =< nSmall) # 오류"
   ]
  },
  {
   "cell_type": "code",
   "execution_count": null,
   "id": "c7374f7c",
   "metadata": {},
   "outputs": [],
   "source": [
    "print(nBig => nSmall) # 오류"
   ]
  },
  {
   "cell_type": "code",
   "execution_count": null,
   "id": "144e4211",
   "metadata": {},
   "outputs": [],
   "source": [
    "strData = 'data'  # 문자열 변수\n",
    "strSci = \"Science\"   # 문자열 변수"
   ]
  },
  {
   "cell_type": "code",
   "execution_count": null,
   "id": "6e23a06d",
   "metadata": {},
   "outputs": [],
   "source": [
    "strLecture = strData + strSci"
   ]
  },
  {
   "cell_type": "code",
   "execution_count": null,
   "id": "9c2b26b3",
   "metadata": {},
   "outputs": [],
   "source": [
    "strLecture"
   ]
  },
  {
   "cell_type": "code",
   "execution_count": null,
   "id": "acef4c2d",
   "metadata": {},
   "outputs": [],
   "source": [
    "strLecture = strData +\" \"+ strSci\n",
    "strLecture"
   ]
  },
  {
   "cell_type": "code",
   "execution_count": null,
   "id": "2e419e5e",
   "metadata": {},
   "outputs": [],
   "source": [
    "strLecture.split() #split()으로 공백을기준으로 문자열 구분"
   ]
  },
  {
   "cell_type": "code",
   "execution_count": null,
   "id": "1a4a2b6d",
   "metadata": {},
   "outputs": [],
   "source": [
    "ISeperate = strLecture.split()\n",
    "#split()으로 공백을 기준으로 문자열 구분하여 ISperate 변수에 저장"
   ]
  },
  {
   "cell_type": "code",
   "execution_count": null,
   "id": "92da40ee",
   "metadata": {},
   "outputs": [],
   "source": [
    "type(lSeperate)"
   ]
  },
  {
   "cell_type": "code",
   "execution_count": null,
   "id": "259ea70e",
   "metadata": {},
   "outputs": [],
   "source": [
    "strHello =\"안녕하세요. 반갑습니다.\""
   ]
  },
  {
   "cell_type": "code",
   "execution_count": null,
   "id": "2a0698b4",
   "metadata": {},
   "outputs": [],
   "source": [
    "strHello.find(\"반갑\") \n",
    "#문자열을 찾기 위해 find()함수를 이용\n",
    "# 문자열이 있으면, 첫번째 시작 인덱스를 반환"
   ]
  },
  {
   "cell_type": "code",
   "execution_count": null,
   "id": "feed27d8",
   "metadata": {},
   "outputs": [],
   "source": [
    "strHello.find(\"hello\") # 문자열이 없으면, -1을 리턴"
   ]
  },
  {
   "cell_type": "code",
   "execution_count": null,
   "id": "222a27c6",
   "metadata": {},
   "outputs": [],
   "source": [
    "\"반갑\" in strHello \n",
    "  # in 명령어를 사용하여 확인 가능 : if 조건문에서 활용"
   ]
  },
  {
   "cell_type": "code",
   "execution_count": null,
   "id": "cce1b9e9",
   "metadata": {},
   "outputs": [],
   "source": [
    "strHello.replace('.', '?')  # .을 모두 ?로 변경"
   ]
  },
  {
   "cell_type": "code",
   "execution_count": null,
   "id": "50b8b6d9",
   "metadata": {},
   "outputs": [],
   "source": [
    "strHello.replace('.', '?')                  \n",
    "strHello.replace(\"하세요\", \"하셔유\")      \n",
    " # 안녕하셔유? 가 될까?"
   ]
  },
  {
   "cell_type": "code",
   "execution_count": null,
   "id": "b175971a",
   "metadata": {},
   "outputs": [],
   "source": [
    "strHello  # 원본 데이터는 변하지 않음"
   ]
  },
  {
   "cell_type": "code",
   "execution_count": null,
   "id": "4374458a",
   "metadata": {},
   "outputs": [],
   "source": [
    "strNewHello = strHello.replace('.', '?')\n",
    "# strHello를 replace하여 strNewHello에 저장   \n",
    "strNewHello = strNewHello.replace(\"하세요\", \"하셔유\") \n",
    "# strNewHello를 replace하여 strNewHello에 저장\n",
    "strNewHello"
   ]
  },
  {
   "cell_type": "code",
   "execution_count": null,
   "id": "35d4756a",
   "metadata": {},
   "outputs": [],
   "source": [
    "strHello.strip('반갑습니다.')  # strip()함수를 이용하여 \"반갑습니다.\"를 제거"
   ]
  },
  {
   "cell_type": "code",
   "execution_count": null,
   "id": "23b97d68",
   "metadata": {},
   "outputs": [],
   "source": [
    "strHello     # 역시 원본 데이터는 변하지 않음"
   ]
  },
  {
   "cell_type": "code",
   "execution_count": null,
   "id": "6acfd2ad",
   "metadata": {},
   "outputs": [],
   "source": [
    "lnData = [1,2,3,4,5] \n",
    "# lnData를 리스트로 생성\n",
    "print(lnData)\n",
    "print('type : ', type(lnData))"
   ]
  },
  {
   "cell_type": "code",
   "execution_count": null,
   "id": "5069d40f",
   "metadata": {},
   "outputs": [],
   "source": [
    "print(lnData[0]) # lnData 리스트의 0번 인덱스의 값 출력\n",
    "print(lnData[3]) # lnData 리스트의 3번 인덱스의 값 출력"
   ]
  },
  {
   "cell_type": "code",
   "execution_count": null,
   "id": "38906952",
   "metadata": {},
   "outputs": [],
   "source": [
    "lnData[0] = lnData[4] # lnData[4]의 값을 lnData[0]에 저장\n",
    "print(lnData) # lnData 리스트를 출력"
   ]
  },
  {
   "cell_type": "code",
   "execution_count": null,
   "id": "5a0c8895",
   "metadata": {},
   "outputs": [],
   "source": [
    "print(lnData[2:4]) # lnData[4]에 저장된 5는 출력되지 않음"
   ]
  },
  {
   "cell_type": "code",
   "execution_count": null,
   "id": "a54a19dd",
   "metadata": {},
   "outputs": [],
   "source": [
    "lnData = [1,2,3,4,5]\n",
    "lstrData=['a', 'b', 'c']\n",
    "# 두 개의 서로다른 자료형을 가진 리스트를 병합\n",
    "lnData + lstrData"
   ]
  },
  {
   "cell_type": "code",
   "execution_count": null,
   "id": "2acfc681",
   "metadata": {},
   "outputs": [],
   "source": [
    "lnData.append(10) # 10을 맨 뒤에 추가\n",
    "lnData"
   ]
  },
  {
   "cell_type": "code",
   "execution_count": null,
   "id": "45cb9a2b",
   "metadata": {},
   "outputs": [],
   "source": [
    "lnData.insert(0, 'python')\n",
    "#'python'문자열을 0번 인덱스에 추가하고, 기존인덱스에 저장된 데이터는 하나씩 뒤로밀림(인덱스가 +1 추가)\n",
    "\n",
    "lnData"
   ]
  },
  {
   "cell_type": "code",
   "execution_count": null,
   "id": "3f7eb2c0",
   "metadata": {},
   "outputs": [],
   "source": [
    "lnData.remove('python') # 'python' 데이터를 삭제\n",
    "lnData"
   ]
  },
  {
   "cell_type": "code",
   "execution_count": null,
   "id": "d912748c",
   "metadata": {},
   "outputs": [],
   "source": [
    "del lnData[5] # del 명령어를 통해 인덱스를 지정하여 삭제\n",
    "lnData"
   ]
  },
  {
   "cell_type": "code",
   "execution_count": null,
   "id": "0becb94d",
   "metadata": {},
   "outputs": [],
   "source": [
    "lnData"
   ]
  },
  {
   "cell_type": "code",
   "execution_count": null,
   "id": "12b5a9b1",
   "metadata": {},
   "outputs": [],
   "source": [
    "lnData.pop(0) # 0번 인덱스의 데이터를 삭제\n",
    "lnData"
   ]
  },
  {
   "cell_type": "code",
   "execution_count": null,
   "id": "3b260b92",
   "metadata": {},
   "outputs": [],
   "source": [
    "lnData.pop() # 인덱스 지정이 없으면, 마지막 인덱스의 값을 삭제\n",
    "lnData"
   ]
  },
  {
   "cell_type": "code",
   "execution_count": null,
   "id": "d9c376cb",
   "metadata": {},
   "outputs": [],
   "source": [
    "lnData.clear() # 리스트의 모든 데이터를 삭제\n",
    "lnData"
   ]
  },
  {
   "cell_type": "code",
   "execution_count": null,
   "id": "eb9fe8f3",
   "metadata": {},
   "outputs": [],
   "source": [
    "# 튜플의 기본 구조\n",
    "tVal = (\"사과\", \"딸기\", \"바나나\", \"토마토\", \"키위\")\n",
    "print(tVal)\n",
    "print(type(tVal))"
   ]
  },
  {
   "cell_type": "code",
   "execution_count": null,
   "id": "360c3dcf",
   "metadata": {},
   "outputs": [],
   "source": [
    "# 튜플에 저장된 데이터는 변경이 불가능\n",
    "tVal[0] = \"포도\""
   ]
  },
  {
   "cell_type": "code",
   "execution_count": null,
   "id": "245fb1ef",
   "metadata": {},
   "outputs": [],
   "source": [
    "# count() 함수를 이용하여 튜플에 저장된 특정 데이터의 개수를 확인\n",
    "tData = ( 1,2,3,1,2,3,4,5,1,2,7)\n",
    "tData.count(1)"
   ]
  },
  {
   "cell_type": "code",
   "execution_count": null,
   "id": "c3779760",
   "metadata": {},
   "outputs": [],
   "source": [
    "# len()함수를 이용하여 튜플에 저장된 전체 데이터 개수를 확인\n",
    "len(tVal)"
   ]
  },
  {
   "cell_type": "code",
   "execution_count": null,
   "id": "c1776b25",
   "metadata": {},
   "outputs": [],
   "source": [
    "len(tData)"
   ]
  },
  {
   "cell_type": "code",
   "execution_count": null,
   "id": "5c4af218",
   "metadata": {},
   "outputs": [],
   "source": [
    "print(tData[2:5])"
   ]
  },
  {
   "cell_type": "code",
   "execution_count": null,
   "id": "d5fbaf4f",
   "metadata": {},
   "outputs": [],
   "source": [
    "tTuple = tVal+ tData\n",
    "print(tTuple)"
   ]
  },
  {
   "cell_type": "code",
   "execution_count": null,
   "id": "a7b6ce1c",
   "metadata": {},
   "outputs": [],
   "source": [
    "tData * 2"
   ]
  },
  {
   "cell_type": "code",
   "execution_count": null,
   "id": "493df6b9",
   "metadata": {},
   "outputs": [],
   "source": [
    "tData"
   ]
  },
  {
   "cell_type": "code",
   "execution_count": null,
   "id": "a7517f1c",
   "metadata": {},
   "outputs": [],
   "source": [
    "tData2 = tData * 2\n",
    "print(tData2)"
   ]
  },
  {
   "cell_type": "code",
   "execution_count": null,
   "id": "688b976f",
   "metadata": {},
   "outputs": [],
   "source": [
    "print(\"tVal memory = \", hex(id(tVal)))\n",
    "tVal = tVal * 2\n",
    "print(\"tVal memory = \", hex(id(tVal)))\n",
    "print(tVal)"
   ]
  },
  {
   "cell_type": "code",
   "execution_count": null,
   "id": "4c2d8ea2",
   "metadata": {},
   "outputs": [],
   "source": [
    "print(\"tVal memory = \", hex(id(tVal)))\n",
    "tVal = tVal + tVal\n",
    "print(\"tVal memory = \", hex(id(tVal)))\n",
    "print(tVal)"
   ]
  },
  {
   "cell_type": "code",
   "execution_count": null,
   "id": "2969e08a",
   "metadata": {},
   "outputs": [],
   "source": [
    "sVal = {1, 2, 3, 4, 5}\n",
    "print(sVal)\n",
    "print(type(sVal))"
   ]
  },
  {
   "cell_type": "code",
   "execution_count": null,
   "id": "f5d0ada3",
   "metadata": {},
   "outputs": [],
   "source": [
    "sVal[1:2]"
   ]
  },
  {
   "cell_type": "code",
   "execution_count": null,
   "id": "4a376ca2",
   "metadata": {},
   "outputs": [],
   "source": [
    "# add함수를 이용하여 데이터를 추가할 수 있음\n",
    "sVal.add(100)\n",
    "print(sVal)"
   ]
  },
  {
   "cell_type": "code",
   "execution_count": null,
   "id": "fe288709",
   "metadata": {},
   "outputs": [],
   "source": [
    "# update함수를 이용하여 여러개의 데이터를 추가할 수 있음\n",
    "sVal.update([200, 300])\n",
    "print(sVal)"
   ]
  },
  {
   "cell_type": "code",
   "execution_count": null,
   "id": "c63dd095",
   "metadata": {},
   "outputs": [],
   "source": [
    "# remove함수를 이용하여 데이터를 삭제할 수 있음\n",
    "sVal.remove(200)\n",
    "print(sVal)"
   ]
  },
  {
   "cell_type": "code",
   "execution_count": null,
   "id": "8e20ea71",
   "metadata": {},
   "outputs": [],
   "source": [
    "# clear()함수를 이용하여 데이터를 초기화 할 수 있음\n",
    "sVal.clear()\n",
    "print(sVal)"
   ]
  },
  {
   "cell_type": "code",
   "execution_count": null,
   "id": "4ad60e8f",
   "metadata": {},
   "outputs": [],
   "source": [
    "sVal = {100, 200, 300, 400, 500}\n",
    "sData = {\"a\",\"b\",\"c\",\"c\",100,300}\n",
    "print(sVal)\n",
    "print(sData)"
   ]
  },
  {
   "cell_type": "code",
   "execution_count": null,
   "id": "2795d3e6",
   "metadata": {},
   "outputs": [],
   "source": [
    "# intersection()함수를 이용하여 교집합을 만들 수 있음\n",
    "sVal.intersection(sData)"
   ]
  },
  {
   "cell_type": "code",
   "execution_count": null,
   "id": "a3499bdd",
   "metadata": {},
   "outputs": [],
   "source": [
    "# deference()함수를 이용하여 차집합을 만들 수 있음\n",
    "sVal.difference(sData)"
   ]
  },
  {
   "cell_type": "code",
   "execution_count": null,
   "id": "9dac99d7",
   "metadata": {},
   "outputs": [],
   "source": [
    "# \"-\"연산자로도 가능\n",
    "sVal - sData"
   ]
  },
  {
   "cell_type": "code",
   "execution_count": null,
   "id": "de92ea1c",
   "metadata": {},
   "outputs": [],
   "source": [
    "# union()함수를 이용하여 합집합을 만들 수 있음\n",
    "sVal.union(sData)"
   ]
  },
  {
   "cell_type": "code",
   "execution_count": null,
   "id": "8d20d943",
   "metadata": {},
   "outputs": [],
   "source": [
    "# \"+\"연산자는 불가능\n",
    "sVal + sData"
   ]
  },
  {
   "cell_type": "code",
   "execution_count": null,
   "id": "44f0befb",
   "metadata": {},
   "outputs": [],
   "source": [
    "# symetric_difference()를 이용하여 합집합에서 교집합을 뺀 집합을 만들수있음\n",
    "sVal.symmetric_difference(sData)"
   ]
  },
  {
   "cell_type": "code",
   "execution_count": null,
   "id": "ab5afb88",
   "metadata": {},
   "outputs": [],
   "source": [
    "# 딕셔너리 기본구조는 다음과 같이 표현할 수 있음\n",
    "dVal = {\n",
    "    'name' : '이컴공',\n",
    "    'email' : 'computer@hoseo.edu',\n",
    "    'address' : '충남 아산시'\n",
    "}\n",
    "print(dVal)\n",
    "print(type(dVal))"
   ]
  },
  {
   "cell_type": "code",
   "execution_count": null,
   "id": "cae579f2",
   "metadata": {},
   "outputs": [],
   "source": [
    "dData = {\n",
    "    \"사과\" : 300, \n",
    "    \"포도\" : 200, \n",
    "    \"배\" : 500,\n",
    "    \"키위\" : 100\n",
    "}"
   ]
  },
  {
   "cell_type": "code",
   "execution_count": null,
   "id": "d3a443fc",
   "metadata": {},
   "outputs": [],
   "source": [
    "# 키를이용한 항목 검색\n",
    "print(dData[\"배\"])"
   ]
  },
  {
   "cell_type": "code",
   "execution_count": null,
   "id": "89fd8112",
   "metadata": {},
   "outputs": [],
   "source": [
    "# get()함수를 이용한 항목 검색\n",
    "dData.get(\"배\")"
   ]
  },
  {
   "cell_type": "code",
   "execution_count": null,
   "id": "4eaa505d",
   "metadata": {},
   "outputs": [],
   "source": [
    "# 새로운 키 추가를 통한 항목 추가\n",
    "dData[\"딸기\"] = 100\n",
    "print(dData)"
   ]
  },
  {
   "cell_type": "code",
   "execution_count": null,
   "id": "692dbefa",
   "metadata": {},
   "outputs": [],
   "source": [
    "# pop을이용한 항목 삭제\n",
    "dData.pop(\"사과\")"
   ]
  },
  {
   "cell_type": "code",
   "execution_count": null,
   "id": "6a2dbdb1",
   "metadata": {},
   "outputs": [],
   "source": [
    "dData"
   ]
  },
  {
   "cell_type": "code",
   "execution_count": null,
   "id": "be7a92ac",
   "metadata": {},
   "outputs": [],
   "source": [
    "dData.pop()"
   ]
  },
  {
   "cell_type": "code",
   "execution_count": null,
   "id": "6946d37f",
   "metadata": {},
   "outputs": [],
   "source": [
    "# sorted함수를 이용한 정렬\n",
    "sorted(dData)"
   ]
  },
  {
   "cell_type": "code",
   "execution_count": null,
   "id": "9de2c2d6",
   "metadata": {},
   "outputs": [],
   "source": [
    "# sorted와 values 함수를이용하여 값을 정렬할 수 있음\n",
    "sorted(dData.values())"
   ]
  },
  {
   "cell_type": "code",
   "execution_count": null,
   "id": "04583f0b",
   "metadata": {},
   "outputs": [],
   "source": [
    "# 실제 dData는 변화가 없음\n",
    "dData"
   ]
  },
  {
   "cell_type": "code",
   "execution_count": 2,
   "id": "6202f818",
   "metadata": {},
   "outputs": [],
   "source": [
    "# 함수 f(x)를 생성하고 x 값을 입력으로 받음\n",
    "def f(x):\n",
    "# x에 10을 더한 값을 출력\n",
    "  return x + 10"
   ]
  },
  {
   "cell_type": "code",
   "execution_count": 1,
   "id": "064bca87",
   "metadata": {
    "scrolled": true
   },
   "outputs": [
    {
     "ename": "NameError",
     "evalue": "name 'f' is not defined",
     "output_type": "error",
     "traceback": [
      "\u001b[1;31m---------------------------------------------------------------------------\u001b[0m",
      "\u001b[1;31mNameError\u001b[0m                                 Traceback (most recent call last)",
      "Input \u001b[1;32mIn [1]\u001b[0m, in \u001b[0;36m<cell line: 1>\u001b[1;34m()\u001b[0m\n\u001b[1;32m----> 1\u001b[0m \u001b[43mf\u001b[49m(\u001b[38;5;241m2\u001b[39m)\n",
      "\u001b[1;31mNameError\u001b[0m: name 'f' is not defined"
     ]
    }
   ],
   "source": [
    "f(2)"
   ]
  },
  {
   "cell_type": "code",
   "execution_count": null,
   "id": "6156f34e",
   "metadata": {},
   "outputs": [],
   "source": []
  }
 ],
 "metadata": {
  "kernelspec": {
   "display_name": "Python 3 (ipykernel)",
   "language": "python",
   "name": "python3"
  },
  "language_info": {
   "codemirror_mode": {
    "name": "ipython",
    "version": 3
   },
   "file_extension": ".py",
   "mimetype": "text/x-python",
   "name": "python",
   "nbconvert_exporter": "python",
   "pygments_lexer": "ipython3",
   "version": "3.9.12"
  }
 },
 "nbformat": 4,
 "nbformat_minor": 5
}
