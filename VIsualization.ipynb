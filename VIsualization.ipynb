{
 "cells": [
  {
   "cell_type": "code",
   "execution_count": null,
   "id": "0cc35f0c",
   "metadata": {},
   "outputs": [],
   "source": [
    "#한글폰트 처리 : 런타임 다시시작 필요\n",
    "!sudo apt-get install -y fonts-nanum\n",
    "!sudo fc-cache -fv\n",
    "!rm ~/.cache/matplotlib -rf"
   ]
  },
  {
   "cell_type": "code",
   "execution_count": null,
   "id": "423f3095",
   "metadata": {},
   "outputs": [],
   "source": [
    "import matplotlib as mpl\n",
    "import matplotlib.pyplot as plt\n",
    "import numpy as np\n",
    "\n",
    "%matplotlib inline"
   ]
  },
  {
   "cell_type": "code",
   "execution_count": null,
   "id": "0d187cc6",
   "metadata": {},
   "outputs": [],
   "source": [
    "# matplotlib 한글폰트 지정\n",
    "plt.rc('font', family='NanumBarunGothic')\n",
    "\n",
    "# - 기호깨짐 오류 방지\n",
    "plt.rc('axes', unicode_minus = False)"
   ]
  },
  {
   "cell_type": "code",
   "execution_count": null,
   "id": "361dc912",
   "metadata": {},
   "outputs": [],
   "source": [
    "#x측\n",
    "x = ['1월','2월','3월','4월','5월']\n",
    "y = [7,10,17,20,23]\n",
    "\n",
    "#그래프\n",
    "plt.plot(x,y)\n",
    "plt.show()"
   ]
  },
  {
   "cell_type": "code",
   "execution_count": null,
   "id": "5d93d20f",
   "metadata": {},
   "outputs": [],
   "source": [
    "#x측\n",
    "x = ['1월','2월','3월','4월','5월']\n",
    "y = [7,10,17,20,23]\n",
    "\n",
    "#그래프\n",
    "plt.plot(x,y, color=\"blue\", marker = 'o', linestyle = ':')\n",
    "plt.title('월별 평균 온도', fontsize=15)\n",
    "plt.ylabel('온도(도)')\n",
    "plt.grid(linestyle = ':')\n",
    "plt.show()"
   ]
  },
  {
   "cell_type": "code",
   "execution_count": null,
   "id": "cb26d6f3",
   "metadata": {},
   "outputs": [],
   "source": [
    "#40개의 임의의 랜덤값을 생성\n",
    "aVal = np.random.standard_normal(40)\n",
    "aVal"
   ]
  },
  {
   "cell_type": "code",
   "execution_count": null,
   "id": "a4b81ef3",
   "metadata": {},
   "outputs": [],
   "source": [
    "#type 확인\n",
    "#40개의 랜덤값으로 이루어진 numpy.ndarray형 변수\n",
    "type(aVal)"
   ]
  },
  {
   "cell_type": "code",
   "execution_count": null,
   "id": "e643d7a5",
   "metadata": {},
   "outputs": [],
   "source": [
    "index = range(len(aVal))\n",
    "plt.plot(index, aVal)\n",
    "\n",
    "# x축,y축의 범위 설정\n",
    "plt.xlim(0, 20)\n",
    "plt.ylim(np.min(aVal) -1, np.max(aVal) + 1)\n",
    "plt.show()"
   ]
  },
  {
   "cell_type": "code",
   "execution_count": null,
   "id": "6b06639f",
   "metadata": {},
   "outputs": [],
   "source": [
    "#index는 range형 변수\n",
    "type(index)"
   ]
  },
  {
   "cell_type": "code",
   "execution_count": null,
   "id": "54b7e632",
   "metadata": {},
   "outputs": [],
   "source": [
    "plt.figure(figsize=(7,4))\n",
    "plt.plot(aVal.cumsum(), 'b', lw= 1.5)\n",
    "plt.plot(aVal.cumsum(), 'ro')\n",
    "plt.xlabel('index')\n",
    "plt.ylabel('aVal')\n",
    "plt.title('Line Plot')\n",
    "plt.show()"
   ]
  },
  {
   "cell_type": "code",
   "execution_count": null,
   "id": "31d5a06c",
   "metadata": {},
   "outputs": [],
   "source": [
    "value = np.random.standard_normal((30, 2))\n",
    "value"
   ]
  },
  {
   "cell_type": "code",
   "execution_count": null,
   "id": "671ec598",
   "metadata": {},
   "outputs": [],
   "source": [
    "value[0]"
   ]
  },
  {
   "cell_type": "code",
   "execution_count": null,
   "id": "c8318bc8",
   "metadata": {},
   "outputs": [],
   "source": [
    "plt.figure(figsize=(10,4))\n",
    "plt.plot(value[:,0], lw= 1.5)\n",
    "plt.plot(value[:,1], lw= 1.5)\n",
    "plt.plot(value, 'ro')\n",
    "plt.grid(True)\n",
    "# plt.legend(loc=0)\n",
    "plt.xlabel('index')\n",
    "plt.ylabel('value')\n",
    "plt.title('Line Plot')"
   ]
  },
  {
   "cell_type": "code",
   "execution_count": null,
   "id": "f2041417",
   "metadata": {},
   "outputs": [],
   "source": [
    "#1번째\n",
    "plt.figure(figsize=(10,5))\n",
    "plt.subplot(211)\n",
    "plt.plot(value[:,0], lw = 1.5, label = '1st')\n",
    "plt.plot(value[:,0], 'ro')\n",
    "plt.grid(True)\n",
    "plt.legend(loc = 0)\n",
    "plt.ylabel(\"value\")\n",
    "plt.title('Line Plot 3')\n",
    "\n",
    "#2번째\n",
    "plt.subplot(212)\n",
    "plt.plot(value[:,1], 'g', lw = 1.5, label = '2nd')\n",
    "plt.grid(True)\n",
    "plt.legend(loc=0)\n",
    "plt.axis('tight')\n",
    "plt.ylabel('value')"
   ]
  },
  {
   "cell_type": "code",
   "execution_count": null,
   "id": "07e6afad",
   "metadata": {},
   "outputs": [],
   "source": [
    "#1번째\n",
    "plt.figure(figsize=(13,5))\n",
    "plt.subplot(231)\n",
    "plt.plot(value[:,0], lw= 1.5, label = '1st')\n",
    "plt.plot(value[:,0], 'co')\n",
    "plt.grid(True)\n",
    "plt.legend(loc=0)\n",
    "plt.ylabel('value')\n",
    "plt.title('Line Plot 3')\n",
    "\n",
    "#2번째\n",
    "plt.subplot(232)\n",
    "plt.plot(value[:,0], 'g-.', lw=1.5, label='1st')\n",
    "plt.grid(True)\n",
    "plt.legend(loc=0)\n",
    "plt.axis('tight')\n",
    "plt.ylabel('value')\n",
    "\n",
    "#3번째\n",
    "plt.subplot(233)\n",
    "plt.plot(value[:,0], 'g', lw=1.5, label='1st')\n",
    "plt.plot(value[:,0], 'bD')\n",
    "plt.grid(True)\n",
    "plt.legend(loc=0)\n",
    "plt.axis('tight')\n",
    "plt.ylabel('value')\n",
    "\n",
    "#4번째\n",
    "plt.subplot(234)\n",
    "plt.plot(value[:,1], '*', lw=1.5, label='2nd')\n",
    "plt.grid(True)\n",
    "plt.legend(loc=0)\n",
    "plt.axis('tight')\n",
    "plt.ylabel('value')\n",
    "\n",
    "#5번째\n",
    "plt.subplot(235)\n",
    "plt.plot(value[:,1], 'b', lw=1.5, label='2nd')\n",
    "plt.plot(value[:,1], 'ms')\n",
    "plt.grid(True)\n",
    "plt.legend(loc=0)\n",
    "plt.axis('tight')\n",
    "plt.ylabel('value')\n",
    "\n",
    "#6번째\n",
    "plt.subplot(236)\n",
    "plt.plot(value[:,1], 'r--', lw=1.5, label='2nd')\n",
    "plt.grid(True)\n",
    "plt.legend(loc=0)\n",
    "plt.axis('tight')\n",
    "plt.ylabel('value')"
   ]
  },
  {
   "cell_type": "code",
   "execution_count": null,
   "id": "ebfc37af",
   "metadata": {},
   "outputs": [],
   "source": [
    "#x측\n",
    "x = ['1월','2월','3월','4월','5월']\n",
    "y = [7,10,17,20,23]\n",
    "\n",
    "#그래프\n",
    "plt.bar(x,y)\n",
    "plt.show()"
   ]
  },
  {
   "cell_type": "code",
   "execution_count": null,
   "id": "c15d51bc",
   "metadata": {},
   "outputs": [],
   "source": [
    "#x측\n",
    "x = ['1월','2월','3월','4월','5월']\n",
    "y = [7,10,17,20,23]\n",
    "\n",
    "#그래프\n",
    "plt.barh(x,y)\n",
    "plt.show()"
   ]
  },
  {
   "cell_type": "code",
   "execution_count": null,
   "id": "84214a8c",
   "metadata": {},
   "outputs": [],
   "source": [
    "#x측\n",
    "x = ['1월','2월','3월','4월','5월']\n",
    "y = [7,10,17,20,23]\n",
    "\n",
    "#그래프\n",
    "plt.bar(x,y, color=\"orange\", width = 0.5, edgecolor = 'black', hatch = '/')\n",
    "plt.title('월별 평균 온도', fontsize=15)\n",
    "plt.ylabel('온도(도)')\n",
    "plt.grid(linestyle = ':', axis = 'y')\n",
    "plt.show()"
   ]
  },
  {
   "cell_type": "code",
   "execution_count": null,
   "id": "26daea91",
   "metadata": {},
   "outputs": [],
   "source": [
    "#pandas를 import\n",
    "import pandas as pd\n",
    "\n",
    "#score.csv 파일 일기\n",
    "df = pd.read_csv('scores.csv', encoding='cp949')\n",
    "df"
   ]
  },
  {
   "cell_type": "code",
   "execution_count": null,
   "id": "6ccbd220",
   "metadata": {},
   "outputs": [],
   "source": [
    "x = df['이름']\n",
    "y_kor = df['국어']\n",
    "\n",
    "plt.bar(x, y_kor)\n",
    "plt.show()"
   ]
  },
  {
   "cell_type": "code",
   "execution_count": null,
   "id": "26bfb32a",
   "metadata": {},
   "outputs": [],
   "source": [
    "x = df['이름']\n",
    "y_kor = df['국어']\n",
    "y_eng = df['영어']\n",
    "\n",
    "#중심을기준으로 왼쪽/오른쪽에 그래프를 구성\n",
    "plt.bar(x, y_kor, width = -0.4, align = 'edge', label = '국어')\n",
    "plt.bar(x, y_eng, width = 0.4, align = 'edge', label = '영어')\n",
    "plt.title('국어/영어 점수 비교', fontsize = 15)\n",
    "plt.ylabel('점수')\n",
    "\n",
    "#범례\n",
    "plt.legend() \n",
    "plt.show()"
   ]
  },
  {
   "cell_type": "code",
   "execution_count": null,
   "id": "97dd84b3",
   "metadata": {},
   "outputs": [],
   "source": [
    "value = np.random.standard_normal((500,2))\n",
    "plt.plot(value[:,0], value[:,1], 'ro')\n",
    "plt.grid(False)\n",
    "plt.xlabel('value 1')\n",
    "plt.ylabel('value 2')\n",
    "plt.title('Scatter Plot 1')"
   ]
  },
  {
   "cell_type": "code",
   "execution_count": null,
   "id": "00832e00",
   "metadata": {},
   "outputs": [],
   "source": [
    "plt.figure(figsize=(7,5))\n",
    "plt.scatter(value[:,0], value[:,1], marker='o')\n",
    "plt.grid(True)\n",
    "plt.xlabel('value 1')\n",
    "plt.ylabel('value 2')\n",
    "plt.title('Scatter Plot 2')"
   ]
  },
  {
   "cell_type": "code",
   "execution_count": null,
   "id": "7d3ebcad",
   "metadata": {},
   "outputs": [],
   "source": [
    "color = np.random.randint(0,10,len(value))\n",
    "\n",
    "plt.figure(figsize=(10,5))\n",
    "plt.scatter(value[:,0], value[:,1], c=color, marker = 'o')\n",
    "plt.colorbar()\n",
    "plt.xlabel('value 1')\n",
    "plt.ylabel('value 2')\n",
    "plt.title('Scatter Plot 3')"
   ]
  },
  {
   "cell_type": "code",
   "execution_count": null,
   "id": "e0a7fe4b",
   "metadata": {},
   "outputs": [],
   "source": [
    "import seaborn as sns\n",
    "df = sns.load_dataset('tips')\n",
    "df"
   ]
  },
  {
   "cell_type": "code",
   "execution_count": null,
   "id": "99fc3cf6",
   "metadata": {},
   "outputs": [],
   "source": [
    "df.head()"
   ]
  },
  {
   "cell_type": "code",
   "execution_count": null,
   "id": "c0607375",
   "metadata": {},
   "outputs": [],
   "source": [
    "df.describe()"
   ]
  },
  {
   "cell_type": "code",
   "execution_count": null,
   "id": "392585c6",
   "metadata": {},
   "outputs": [],
   "source": [
    "df.info()"
   ]
  },
  {
   "cell_type": "code",
   "execution_count": null,
   "id": "fd1b26fc",
   "metadata": {},
   "outputs": [],
   "source": [
    "x = df['total_bill']\n",
    "y = df['tip']\n",
    "\n",
    "sns.scatterplot(x,y)"
   ]
  },
  {
   "cell_type": "code",
   "execution_count": null,
   "id": "0cade32d",
   "metadata": {},
   "outputs": [],
   "source": [
    "sns.boxplot(x=\"day\", y = \"tip\", hue=\"sex\", data=df, palette=\"muted\")"
   ]
  }
 ],
 "metadata": {
  "kernelspec": {
   "display_name": "Python 3 (ipykernel)",
   "language": "python",
   "name": "python3"
  },
  "language_info": {
   "codemirror_mode": {
    "name": "ipython",
    "version": 3
   },
   "file_extension": ".py",
   "mimetype": "text/x-python",
   "name": "python",
   "nbconvert_exporter": "python",
   "pygments_lexer": "ipython3",
   "version": "3.9.12"
  }
 },
 "nbformat": 4,
 "nbformat_minor": 5
}
